{
 "cells": [
  {
   "cell_type": "code",
   "execution_count": 165,
   "metadata": {
    "collapsed": false
   },
   "outputs": [
    {
     "name": "stdout",
     "output_type": "stream",
     "text": [
      "config: 50 10 1000\n",
      "LIST => 1225\n",
      "CPU times: user 1e+03 ns, sys: 0 ns, total: 1e+03 ns\n",
      "Wall time: 3.34 µs\n",
      "check is 8\n"
     ]
    }
   ],
   "source": [
    "from collections import defaultdict\n",
    "import itertools\n",
    "import importlib\n",
    "\n",
    "import config\n",
    "importlib.reload(config)\n",
    "from config import NUM_EXAMS, NUM_SLOTS, NUM_STUDENTS\n",
    "print(\"config:\", NUM_EXAMS, NUM_SLOTS, NUM_STUDENTS)\n",
    "\n",
    "def load_data(data_file):\n",
    "    students_exams = defaultdict()\n",
    "\n",
    "    with open(data_file, \"r\") as f:\n",
    "        lines = f.readlines()\n",
    "\n",
    "        for line in lines:\n",
    "            student, exams = line.strip().split(\"\\t\")\n",
    "            students_exams[student] = exams.split(\",\")\n",
    "\n",
    "    return students_exams\n",
    "\n",
    "\n",
    "STUDENTS_EXAMS_LOOKUP = load_data(\"students_exams.txt\")\n",
    "\n",
    "\n",
    "EXAMS = [ 'exam_%s' % e for e in range(NUM_EXAMS)] \n",
    "CP_EXAMS =  itertools.product( EXAMS, EXAMS)\n",
    "L =  list( filter( lambda key: key[0] < key[1], CP_EXAMS) )\n",
    "print( \"LIST =>\", len(L))\n",
    "\n",
    "\n",
    "STUDENTS_EXAMS_LOOKUP['student_1']\n",
    "\n",
    "\n",
    "LOOKUP = defaultdict( defaultdict )\n",
    "\n",
    "\n",
    "\n",
    "for item in L:\n",
    "    ex1 = item[0]\n",
    "    ex2 = item[1]\n",
    "    if ex1>ex2: ex2,ex1 = ex1, ex2\n",
    "    LOOKUP[ex1][ex2] = 0\n",
    "    \n",
    "\n",
    "\n",
    "%time\n",
    "for idx, student in enumerate(STUDENTS_EXAMS_LOOKUP):\n",
    "    S_EXAMS =  STUDENTS_EXAMS_LOOKUP[student] \n",
    "    cross_prod =  list( filter( lambda key: key[0]>key[1], itertools.product( S_EXAMS, S_EXAMS )) )    \n",
    "    for ex1, ex2 in cross_prod:\n",
    "        if ex1>ex2: ex2,ex1 = ex1, ex2\n",
    "        LOOKUP[ex1][ex2] +=1\n",
    "        \n",
    "        \n",
    "\n",
    "s = 0\n",
    "with open(\"overlaps.txt\", \"w\") as f:\n",
    "    for ex1 in LOOKUP.keys():\n",
    "        for ex2 in LOOKUP[ex1].keys():\n",
    "            val = LOOKUP[ex1][ex2]\n",
    "            f.write( \"%s\\t%s\\t%s\\n\" %  (ex1, ex2,val))\n",
    "            s+= val\n",
    "\n",
    "            \n",
    "exam1 = 'exam_1'\n",
    "exam2 = 'exam_19'\n",
    "check = 0\n",
    "for idx, student in enumerate(STUDENTS_EXAMS_LOOKUP):\n",
    "    exams = STUDENTS_EXAMS_LOOKUP[student]\n",
    "    if exam1 in exams and exam2 in exams:\n",
    "        check+=1\n",
    "\n",
    "        \n",
    "print(\"check is\", check)\n",
    "assert( check == LOOKUP[exam1][exam2] )"
   ]
  },
  {
   "cell_type": "code",
   "execution_count": 159,
   "metadata": {
    "collapsed": false
   },
   "outputs": [
    {
     "name": "stdout",
     "output_type": "stream",
     "text": [
      "LIST => 1225\n"
     ]
    }
   ],
   "source": []
  },
  {
   "cell_type": "code",
   "execution_count": 160,
   "metadata": {
    "collapsed": false
   },
   "outputs": [
    {
     "name": "stdout",
     "output_type": "stream",
     "text": [
      "CPU times: user 1 µs, sys: 0 ns, total: 1 µs\n",
      "Wall time: 3.81 µs\n"
     ]
    }
   ],
   "source": []
  },
  {
   "cell_type": "code",
   "execution_count": 161,
   "metadata": {
    "collapsed": false
   },
   "outputs": [],
   "source": []
  },
  {
   "cell_type": "code",
   "execution_count": 162,
   "metadata": {
    "collapsed": false
   },
   "outputs": [
    {
     "name": "stdout",
     "output_type": "stream",
     "text": [
      "s => 8256\n"
     ]
    }
   ],
   "source": [
    "print( \"s =>\", s)"
   ]
  },
  {
   "cell_type": "code",
   "execution_count": 163,
   "metadata": {
    "collapsed": false
   },
   "outputs": [
    {
     "name": "stdout",
     "output_type": "stream",
     "text": [
      "check is 8\n"
     ]
    }
   ],
   "source": []
  },
  {
   "cell_type": "code",
   "execution_count": 164,
   "metadata": {
    "collapsed": false
   },
   "outputs": [],
   "source": []
  },
  {
   "cell_type": "code",
   "execution_count": null,
   "metadata": {
    "collapsed": true
   },
   "outputs": [],
   "source": []
  },
  {
   "cell_type": "code",
   "execution_count": null,
   "metadata": {
    "collapsed": true
   },
   "outputs": [],
   "source": []
  },
  {
   "cell_type": "code",
   "execution_count": null,
   "metadata": {
    "collapsed": true
   },
   "outputs": [],
   "source": []
  },
  {
   "cell_type": "code",
   "execution_count": null,
   "metadata": {
    "collapsed": true
   },
   "outputs": [],
   "source": []
  }
 ],
 "metadata": {
  "kernelspec": {
   "display_name": "Python 3",
   "language": "python",
   "name": "python3"
  },
  "language_info": {
   "codemirror_mode": {
    "name": "ipython",
    "version": 3
   },
   "file_extension": ".py",
   "mimetype": "text/x-python",
   "name": "python",
   "nbconvert_exporter": "python",
   "pygments_lexer": "ipython3",
   "version": "3.4.3"
  }
 },
 "nbformat": 4,
 "nbformat_minor": 0
}
